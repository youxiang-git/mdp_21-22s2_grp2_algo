{
 "cells": [
  {
   "cell_type": "markdown",
   "id": "dcb4323a",
   "metadata": {},
   "source": [
    "# CZ3004 MDP Algorithms"
   ]
  },
  {
   "cell_type": "code",
   "execution_count": 1,
   "id": "25c924e1",
   "metadata": {
    "ExecuteTime": {
     "end_time": "2022-01-28T01:04:08.307380Z",
     "start_time": "2022-01-28T01:04:08.287463Z"
    }
   },
   "outputs": [
    {
     "name": "stdout",
     "output_type": "stream",
     "text": [
      "hello world\n"
     ]
    }
   ],
   "source": [
    "print(\"hello world\")"
   ]
  },
  {
   "cell_type": "code",
   "execution_count": null,
   "id": "d65b6a7b",
   "metadata": {},
   "outputs": [],
   "source": []
  }
 ],
 "metadata": {
  "kernelspec": {
   "display_name": "Python 3 (ipykernel)",
   "language": "python",
   "name": "python3"
  },
  "language_info": {
   "codemirror_mode": {
    "name": "ipython",
    "version": 3
   },
   "file_extension": ".py",
   "mimetype": "text/x-python",
   "name": "python",
   "nbconvert_exporter": "python",
   "pygments_lexer": "ipython3",
   "version": "3.9.7"
  }
 },
 "nbformat": 4,
 "nbformat_minor": 5
}
