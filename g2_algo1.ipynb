{
 "cells": [
  {
   "cell_type": "markdown",
   "metadata": {},
   "source": [
    "# CZ3004 MDP Algorithms"
   ]
  },
  {
   "cell_type": "code",
   "execution_count": 2,
   "metadata": {
    "ExecuteTime": {
     "end_time": "2022-01-28T01:04:08.307380Z",
     "start_time": "2022-01-28T01:04:08.287463Z"
    }
   },
   "outputs": [],
   "source": [
    "import numpy as np\n",
    "import matplotlib.pyplot as plt\n",
    "np.set_printoptions(threshold=np.inf, linewidth=np.inf)"
   ]
  },
  {
   "cell_type": "code",
   "execution_count": 3,
   "metadata": {},
   "outputs": [
    {
     "name": "stdout",
     "output_type": "stream",
     "text": [
      "[[0 0 0 0 0 0 0 0 0 0 0 0 0 0 0 0 0 0 0 0]\n",
      " [0 0 0 0 0 0 0 0 0 0 0 0 0 0 0 0 0 0 0 0]\n",
      " [0 0 0 0 0 0 0 0 0 0 0 0 0 0 0 0 0 0 0 0]\n",
      " [0 0 0 0 0 0 0 0 0 0 0 0 0 0 0 0 0 0 0 0]\n",
      " [0 0 0 0 0 0 0 0 0 0 0 0 0 0 0 0 0 0 0 0]\n",
      " [0 0 0 0 0 0 0 0 0 0 0 0 0 0 0 0 0 0 0 0]\n",
      " [0 0 0 0 0 0 0 0 0 0 0 0 0 0 0 0 0 0 0 0]\n",
      " [0 0 0 0 0 0 0 0 0 0 0 0 0 0 0 0 0 0 0 0]\n",
      " [0 0 0 0 0 0 0 0 0 0 0 0 0 0 0 0 0 0 0 0]\n",
      " [0 0 0 0 0 0 0 0 0 0 0 0 0 0 0 0 0 0 0 0]\n",
      " [0 0 0 0 0 0 0 0 0 0 0 0 0 0 0 0 0 0 0 0]\n",
      " [0 0 0 0 0 0 0 0 0 0 0 0 0 0 0 0 0 0 0 0]\n",
      " [0 0 0 0 0 0 0 0 0 0 0 0 0 0 0 0 0 0 0 0]\n",
      " [0 0 0 0 0 0 0 0 0 0 0 0 0 0 0 0 0 0 0 0]\n",
      " [0 0 0 0 0 0 0 0 0 0 0 0 0 0 0 0 0 0 0 0]\n",
      " [0 0 0 0 0 0 0 0 0 0 0 0 0 0 0 0 0 0 0 0]\n",
      " [0 0 0 0 0 0 0 0 0 0 0 0 0 0 0 0 0 0 0 0]\n",
      " [0 0 0 0 0 0 0 0 0 0 0 0 0 0 0 0 0 0 0 0]\n",
      " [0 0 0 0 0 0 0 0 0 0 0 0 0 0 0 0 0 0 0 0]\n",
      " [0 0 0 0 0 0 0 0 0 0 0 0 0 0 0 0 0 0 0 0]]\n"
     ]
    }
   ],
   "source": [
    "test1 = np.arange(400)\n",
    "test1 = test1.reshape(20,20)\n",
    "\n",
    "test1_mat = np.zeros_like(test1)\n",
    "print(test1_mat)"
   ]
  },
  {
   "cell_type": "code",
   "execution_count": 4,
   "metadata": {},
   "outputs": [],
   "source": [
    "# Helper functions\n",
    "\n",
    "def resetField(field):\n",
    "  newField = np.zeros_like(field)\n",
    "  for i in range(0, 20, 19):\n",
    "    for j in range(0, 20):\n",
    "      newField[i][j] = 2\n",
    "  for i in range(0, 20):\n",
    "    for j in range(0, 20, 19):\n",
    "      newField[i][j] = 2\n",
    "  return newField\n",
    "\n",
    "def setObstacle(mat, y, x, direction):\n",
    "  for i in range(-1, 2):\n",
    "    for j in range(-1, 2):\n",
    "      mat[y+i][x+j] = 2\n",
    "  mat[y][x] = 1\n",
    "  if direction == \"North\":\n",
    "    mat[y-4][x] = 3\n",
    "    node = Node(x, y-4)\n",
    "  elif direction == \"East\":\n",
    "    mat[y][x+4] = 3\n",
    "    node = Node(x+4, y)\n",
    "  elif direction == \"South\":\n",
    "    mat[y+4][x] = 3\n",
    "    node = Node(x, y+4)\n",
    "  else:\n",
    "    mat[y][x-4] = 3\n",
    "    node = Node(x-4, y)\n",
    "  goalNodes.append(node)\n",
    "\n",
    "def setRobotLocation(mat, y, x):\n",
    "  mat[y][x] = 4\n",
    "  startNode = Node(x, y)\n",
    "\n",
    "def printField(mat):\n",
    "  f = plt.figure(figsize = (10 , 10))\n",
    "  plt.imshow(mat)\n",
    "  plt.xticks(np.arange(0, 20, 1))\n",
    "  plt.yticks(np.arange(0, 20, 1))\n",
    "  plt.show()\n",
    "\n",
    "class Node:\n",
    "  def __init__(self, x, y):\n",
    "    self.x = x\n",
    "    self.y = y\n",
    "\n",
    "startNode = Node(0, 0)\n",
    "goalNodes = []"
   ]
  },
  {
   "cell_type": "code",
   "execution_count": 5,
   "metadata": {},
   "outputs": [
    {
     "data": {
      "image/png": "[encoded data removed]",
      "text/plain": [
       "<Figure size 720x720 with 1 Axes>"
      ]
     },
     "metadata": {
      "needs_background": "light"
     },
     "output_type": "display_data"
    },
    {
     "name": "stdout",
     "output_type": "stream",
     "text": [
      "<__main__.Node object at 0x00000200B3996B80>\n",
      "[<__main__.Node object at 0x00000200B49A9C10>, <__main__.Node object at 0x00000200B49A9AF0>, <__main__.Node object at 0x00000200B48CBE20>, <__main__.Node object at 0x00000200B48CBEE0>]\n",
      "[<__main__.Node object at 0x00000200B3996B80>, <__main__.Node object at 0x00000200B49A9C10>, <__main__.Node object at 0x00000200B49A9AF0>, <__main__.Node object at 0x00000200B48CBE20>, <__main__.Node object at 0x00000200B48CBEE0>]\n"
     ]
    }
   ],
   "source": [
    "# Configure starting field\n",
    "goalNodes = []\n",
    "test1_mat = resetField(test1)\n",
    "\n",
    "# b, a\n",
    "setObstacle(test1_mat, 18, 16, \"North\")\n",
    "setObstacle(test1_mat, 12, 7, \"East\")\n",
    "setObstacle(test1_mat, 1, 2, \"South\")\n",
    "setObstacle(test1_mat, 3, 16, \"West\")\n",
    "\n",
    "setRobotLocation(test1_mat, 17, 2)\n",
    "\n",
    "printField(test1_mat)\n",
    "\n",
    "print(startNode)\n",
    "print(goalNodes)\n",
    "goalNodes.insert(0, startNode)\n",
    "print(goalNodes)"
   ]
  },
  {
   "cell_type": "code",
   "execution_count": 6,
   "metadata": {},
   "outputs": [],
   "source": [
    "def nearestNeighbour(goalNodes):\n",
    "  v = goalNodes[0]\n",
    "  visited = []\n",
    "  for i in range(len(goalNodes)):\n",
    "    visited.append(0)\n",
    "  visited[0] = 1\n",
    "  for i in range(len(goalNodes)-1):\n",
    "    # find closest goal store in w (return index)\n",
    "    # w = goalNodes[index]\n",
    "    # visited[index] = 1\n",
    "    # v = w\n",
    "    print(\"Coordinate x: \"+v.x+\", y: \"+v.y)"
   ]
  },
  {
   "cell_type": "code",
   "execution_count": null,
   "metadata": {},
   "outputs": [],
   "source": []
  }
 ],
 "metadata": {
  "kernelspec": {
   "display_name": "Python 3",
   "language": "python",
   "name": "python3"
  },
  "language_info": {
   "codemirror_mode": {
    "name": "ipython",
    "version": 3
   },
   "file_extension": ".py",
   "mimetype": "text/x-python",
   "name": "python",
   "nbconvert_exporter": "python",
   "pygments_lexer": "ipython3",
   "version": "3.8.5"
  }
 },
 "nbformat": 4,
 "nbformat_minor": 5
}
